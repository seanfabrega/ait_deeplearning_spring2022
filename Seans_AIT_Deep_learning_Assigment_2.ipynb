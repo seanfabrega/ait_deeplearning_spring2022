{
  "nbformat": 4,
  "nbformat_minor": 0,
  "metadata": {
    "kernelspec": {
      "display_name": "Python 3",
      "language": "python",
      "name": "python3"
    },
    "language_info": {
      "codemirror_mode": {
        "name": "ipython",
        "version": 3
      },
      "file_extension": ".py",
      "mimetype": "text/x-python",
      "name": "python",
      "nbconvert_exporter": "python",
      "pygments_lexer": "ipython3",
      "version": "3.6.6"
    },
    "colab": {
      "name": "Seans-AIT-Deep-learning-Assigment-2",
      "provenance": [],
      "collapsed_sections": []
    }
  },
  "cells": [
    {
      "cell_type": "markdown",
      "metadata": {
        "id": "_jiGtJu6u9ml"
      },
      "source": [
        "# Copyright\n",
        "\n",
        "<PRE>\n",
        "Copyright (c) 2021 Bálint Gyires-Tóth - All Rights Reserved\n",
        "You may use and modify this code for research and development purpuses.\n",
        "Use this code for educational purposes (self-paced or instructor led) without the permission of the author is prohibited.\n",
        "</PRE>"
      ]
    },
    {
      "cell_type": "markdown",
      "metadata": {
        "id": "oXyFC44jV-PP"
      },
      "source": [
        "# Author classification\n",
        "The task is to train a 1D CNN or an LSTM that is able to  classify text from two authors. The final model should be able to tell about a text with a given length (e.g. 60 characters) who wrote it. \n",
        "\n",
        "Please write the codes according to the following parts:"
      ]
    },
    {
      "cell_type": "markdown",
      "metadata": {
        "id": "jCnLoeGrHXsp"
      },
      "source": [
        "## Python module imports\n",
        "Import all Python modules that you would need during the Assignment."
      ]
    },
    {
      "cell_type": "code",
      "metadata": {
        "id": "7itbFGt3HXVT"
      },
      "source": [
        "import numpy as np\n",
        "from tensorflow.keras.models import Sequential\n",
        "from tensorflow.keras.layers import Activation, Dense, Flatten, Conv1D, MaxPooling1D, GlobalMaxPooling1D, Dropout\n",
        "from tensorflow.keras.initializers import HeNormal\n",
        "from tensorflow.keras.optimizers import SGD\n",
        "from tensorflow.keras.callbacks import EarlyStopping\n",
        "import matplotlib.pyplot as plt\n",
        "from tensorflow.keras.layers import Embedding\n",
        "from tensorflow.keras.utils import to_categorical\n",
        "from tensorflow.keras.preprocessing.text import one_hot"
      ],
      "execution_count": 83,
      "outputs": []
    },
    {
      "cell_type": "markdown",
      "metadata": {
        "id": "Hr617tEpHd8R"
      },
      "source": [
        "## Data acquisition\n",
        "Seek a possible dataset, you can use any source, e.g.\n",
        "* http://www.gutenberg.org/\n",
        "* https://www.kaggle.com/datasets\n",
        "* https://paperswithcode.com/datasets\n",
        "* if you would like to learn Hungarian, than e.g. https://mek.oszk.hu/\n",
        "\n",
        "You can download the text by hand (e.g. by copy-pasting some parts into txt files) or with Python. "
      ]
    },
    {
      "cell_type": "code",
      "source": [
        "def letter_arr(s):\n",
        "  res = \"\"\n",
        "  for ch in s:\n",
        "      if ch.isalpha():\n",
        "          res += ch\n",
        "  return res"
      ],
      "metadata": {
        "id": "5uAj3IbOFDSl"
      },
      "execution_count": 84,
      "outputs": []
    },
    {
      "cell_type": "code",
      "metadata": {
        "id": "NgkdQxHqHdZB",
        "colab": {
          "base_uri": "https://localhost:8080/"
        },
        "outputId": "c541c320-3831-409c-b26a-8ea85781b532"
      },
      "source": [
        "with open('../content/anna_karenina.txt', 'r') as f:\n",
        "    anna_karenina = f.read()\n",
        "with open('../content/pride_and_prejudice.txt', 'r') as f:\n",
        "    pride_and_prejudice = f.read()\n",
        "ak = list(letter_arr(anna_karenina))\n",
        "pp = list(letter_arr(pride_and_prejudice))\n",
        "print(ak[:100])\n",
        "print(pp[:100])"
      ],
      "execution_count": 85,
      "outputs": [
        {
          "output_type": "stream",
          "name": "stdout",
          "text": [
            "['E', 'v', 'e', 'r', 'y', 't', 'h', 'i', 'n', 'g', 'w', 'a', 's', 'i', 'n', 'c', 'o', 'n', 'f', 'u', 's', 'i', 'o', 'n', 'i', 'n', 't', 'h', 'e', 'O', 'b', 'l', 'o', 'n', 's', 'k', 'y', 's', 'h', 'o', 'u', 's', 'e', 'T', 'h', 'e', 'w', 'i', 'f', 'e', 'h', 'a', 'd', 'd', 'i', 's', 'c', 'o', 'v', 'e', 'r', 'e', 'd', 't', 'h', 'a', 't', 't', 'h', 'e', 'h', 'u', 's', 'b', 'a', 'n', 'd', 'w', 'a', 's', 'c', 'a', 'r', 'r', 'y', 'i', 'n', 'g', 'o', 'n', 'a', 'n', 'i', 'n', 't', 'r', 'i', 'g', 'u', 'e']\n",
            "['I', 't', 'i', 's', 'a', 't', 'r', 'u', 't', 'h', 'u', 'n', 'i', 'v', 'e', 'r', 's', 'a', 'l', 'l', 'y', 'a', 'c', 'k', 'n', 'o', 'w', 'l', 'e', 'd', 'g', 'e', 'd', 't', 'h', 'a', 't', 'a', 's', 'i', 'n', 'g', 'l', 'e', 'm', 'a', 'n', 'i', 'n', 'p', 'o', 's', 's', 'e', 's', 's', 'i', 'o', 'n', 'o', 'f', 'a', 'g', 'o', 'o', 'd', 'f', 'o', 'r', 't', 'u', 'n', 'e', 'm', 'u', 's', 't', 'b', 'e', 'i', 'n', 'w', 'a', 'n', 't', 'o', 'f', 'a', 'w', 'i', 'f', 'e', 'H', 'o', 'w', 'e', 'v', 'e', 'r', 'l']\n"
          ]
        }
      ]
    },
    {
      "cell_type": "code",
      "source": [
        "def make_lower(char_array):\n",
        "  lower_char_array = np.array(char_array)\n",
        "  for i in range(len(char_array)):\n",
        "    lower_char_array[i] = char_array[i].lower()\n",
        "  return lower_char_array"
      ],
      "metadata": {
        "id": "E4224qpw5q6K"
      },
      "execution_count": 86,
      "outputs": []
    },
    {
      "cell_type": "code",
      "source": [
        "ak = make_lower(ak)\n",
        "pp = make_lower(pp)\n",
        "\n",
        "print(ak[:100])\n",
        "print(pp[:100])"
      ],
      "metadata": {
        "colab": {
          "base_uri": "https://localhost:8080/"
        },
        "id": "8eQJAI2L5xLs",
        "outputId": "a965c6d9-3d6c-4203-ea92-d54b7bc0333c"
      },
      "execution_count": 87,
      "outputs": [
        {
          "output_type": "stream",
          "name": "stdout",
          "text": [
            "['e' 'v' 'e' 'r' 'y' 't' 'h' 'i' 'n' 'g' 'w' 'a' 's' 'i' 'n' 'c' 'o' 'n'\n",
            " 'f' 'u' 's' 'i' 'o' 'n' 'i' 'n' 't' 'h' 'e' 'o' 'b' 'l' 'o' 'n' 's' 'k'\n",
            " 'y' 's' 'h' 'o' 'u' 's' 'e' 't' 'h' 'e' 'w' 'i' 'f' 'e' 'h' 'a' 'd' 'd'\n",
            " 'i' 's' 'c' 'o' 'v' 'e' 'r' 'e' 'd' 't' 'h' 'a' 't' 't' 'h' 'e' 'h' 'u'\n",
            " 's' 'b' 'a' 'n' 'd' 'w' 'a' 's' 'c' 'a' 'r' 'r' 'y' 'i' 'n' 'g' 'o' 'n'\n",
            " 'a' 'n' 'i' 'n' 't' 'r' 'i' 'g' 'u' 'e']\n",
            "['i' 't' 'i' 's' 'a' 't' 'r' 'u' 't' 'h' 'u' 'n' 'i' 'v' 'e' 'r' 's' 'a'\n",
            " 'l' 'l' 'y' 'a' 'c' 'k' 'n' 'o' 'w' 'l' 'e' 'd' 'g' 'e' 'd' 't' 'h' 'a'\n",
            " 't' 'a' 's' 'i' 'n' 'g' 'l' 'e' 'm' 'a' 'n' 'i' 'n' 'p' 'o' 's' 's' 'e'\n",
            " 's' 's' 'i' 'o' 'n' 'o' 'f' 'a' 'g' 'o' 'o' 'd' 'f' 'o' 'r' 't' 'u' 'n'\n",
            " 'e' 'm' 'u' 's' 't' 'b' 'e' 'i' 'n' 'w' 'a' 'n' 't' 'o' 'f' 'a' 'w' 'i'\n",
            " 'f' 'e' 'h' 'o' 'w' 'e' 'v' 'e' 'r' 'l']\n"
          ]
        }
      ]
    },
    {
      "cell_type": "markdown",
      "source": [
        "## Data analysis\n",
        "Count the number of characters from both authors and display them on a plot (e.g. Seaborn's countplot)."
      ],
      "metadata": {
        "id": "U9Pmq91t3SRD"
      }
    },
    {
      "cell_type": "code",
      "source": [
        "def count_letters(arr, arr_c):\n",
        "  for c in arr:\n",
        "    if c == 'a' or c == 'A':\n",
        "      arr_c[0] += 1\n",
        "    elif c == 'b' or c == 'B':\n",
        "      arr_c[1] += 1\n",
        "    elif c == 'c' or c == 'C':\n",
        "      arr_c[2] += 1\n",
        "    elif c == 'd' or c == 'D':\n",
        "      arr_c[3] += 1\n",
        "    elif c == 'e' or c == 'E':\n",
        "      arr_c[4] += 1\n",
        "    elif c == 'f' or c == 'F':\n",
        "      arr_c[5] += 1\n",
        "    elif c == 'g' or c == 'G':\n",
        "      arr_c[6] += 1\n",
        "    elif c == 'h' or c == 'H':\n",
        "      arr_c[7] += 1\n",
        "    elif c == 'i' or c == 'I':\n",
        "      arr_c[8] += 1\n",
        "    elif c == 'j' or c == 'J':\n",
        "      arr_c[9] += 1\n",
        "    elif c == 'k' or c == 'K':\n",
        "      arr_c[10] += 1\n",
        "    elif c == 'l' or c == 'L':\n",
        "      arr_c[11] += 1\n",
        "    elif c == 'm' or c == 'M':\n",
        "      arr_c[12] += 1\n",
        "    elif c == 'n' or c == 'N':\n",
        "      arr_c[13] += 1\n",
        "    elif c == 'o' or c == 'O':\n",
        "      arr_c[14] += 1\n",
        "    elif c == 'p' or c == 'P':\n",
        "      arr_c[15] += 1\n",
        "    elif c == 'q' or c == 'Q':\n",
        "      arr_c[16] += 1\n",
        "    elif c == 'r' or c == 'R':\n",
        "      arr_c[17] += 1\n",
        "    elif c == 's' or c == 'S':\n",
        "      arr_c[18] += 1\n",
        "    elif c == 't' or c == 'T':\n",
        "      arr_c[19] += 1\n",
        "    elif c == 'u' or c == 'U':\n",
        "      arr_c[20] += 1\n",
        "    elif c == 'v' or c == 'V':\n",
        "      arr_c[21] += 1\n",
        "    elif c == 'w' or c == 'W':\n",
        "      arr_c[22] += 1\n",
        "    elif c == 'x' or c == 'X':\n",
        "      arr_c[23] += 1\n",
        "    elif c == 'y' or c == 'Y':\n",
        "      arr_c[24] += 1\n",
        "    elif c == 'z' or c == 'Z':\n",
        "      arr_c[25] += 1\n",
        "  return arr_c"
      ],
      "metadata": {
        "id": "PW9or08VGxmj"
      },
      "execution_count": 88,
      "outputs": []
    },
    {
      "cell_type": "code",
      "source": [
        "ak_c = np.zeros(26)\n",
        "ak_c = count_letters(ak, ak_c)\n",
        "pp_c = np.zeros(26)\n",
        "pp_c = count_letters(pp, pp_c)\n",
        "print(ak_c)\n",
        "print(pp_c)"
      ],
      "metadata": {
        "id": "uRqGdn4F3Spk",
        "colab": {
          "base_uri": "https://localhost:8080/"
        },
        "outputId": "28942401-8f3b-4e9b-955c-0dc12e1f825c"
      },
      "execution_count": 89,
      "outputs": [
        {
          "output_type": "stream",
          "name": "stdout",
          "text": [
            "[124073.  21228.  34136.  68465. 185313.  31120.  33241. 106442. 109112.\n",
            "   1420.  15400.  60609.  34167. 110264. 113836.  23715.   1410.  79598.\n",
            "  97867. 140478.  39621.  19951.  37022.   3396.  32034.   1042.]\n",
            "[41780.  9103. 13495. 22330. 69519. 12029. 10043. 34123. 37965.   876.\n",
            "  3210. 21625. 14773. 37745. 40032.  8244.   627. 32349. 33136. 46707.\n",
            " 15006.  5774. 12322.   885. 12737.   949.]\n"
          ]
        }
      ]
    },
    {
      "cell_type": "code",
      "source": [
        "import seaborn as sns\n",
        "ak_plt = sns.countplot(ak)"
      ],
      "metadata": {
        "colab": {
          "base_uri": "https://localhost:8080/",
          "height": 320
        },
        "id": "FTIcUyqbIUU-",
        "outputId": "6d67a1ce-5120-4635-cfa7-f964bd3b4d81"
      },
      "execution_count": 90,
      "outputs": [
        {
          "output_type": "stream",
          "name": "stderr",
          "text": [
            "/usr/local/lib/python3.7/dist-packages/seaborn/_decorators.py:43: FutureWarning: Pass the following variable as a keyword arg: x. From version 0.12, the only valid positional argument will be `data`, and passing other arguments without an explicit keyword will result in an error or misinterpretation.\n",
            "  FutureWarning\n"
          ]
        },
        {
          "output_type": "display_data",
          "data": {
            "text/plain": [
              "<Figure size 432x288 with 1 Axes>"
            ],
            "image/png": "[encoded data removed]"
          },
          "metadata": {
            "needs_background": "light"
          }
        }
      ]
    },
    {
      "cell_type": "code",
      "source": [
        "pp_plt = sns.countplot(pp)"
      ],
      "metadata": {
        "colab": {
          "base_uri": "https://localhost:8080/",
          "height": 320
        },
        "id": "ekihorM4WaOE",
        "outputId": "b6acf51a-fe14-4845-b1f0-b7e6e1b4b691"
      },
      "execution_count": 91,
      "outputs": [
        {
          "output_type": "stream",
          "name": "stderr",
          "text": [
            "/usr/local/lib/python3.7/dist-packages/seaborn/_decorators.py:43: FutureWarning: Pass the following variable as a keyword arg: x. From version 0.12, the only valid positional argument will be `data`, and passing other arguments without an explicit keyword will result in an error or misinterpretation.\n",
            "  FutureWarning\n"
          ]
        },
        {
          "output_type": "display_data",
          "data": {
            "text/plain": [
              "<Figure size 432x288 with 1 Axes>"
            ],
            "image/png": "[encoded data removed]"
          },
          "metadata": {
            "needs_background": "light"
          }
        }
      ]
    },
    {
      "cell_type": "markdown",
      "metadata": {
        "id": "cHyE_ndGIblJ"
      },
      "source": [
        "## Data loading, labeling and preprocessing\n",
        "Load the data and convert the characters into one-hot encodings. Then load the data into a 3D NumPy array, with a shape of\n",
        "\n",
        "* (batch, sequence_length, alphabet_length)\n",
        "\n",
        "where sequence_length=60, and alphabet_length equals to the number of unique characters in both datasets. The sequences should be cut out from the complete dataset by sliding window. You should add 0 and 1 labels to the sequences, according to the author. \n",
        "\n",
        "Later you may change sequence_length to achieve better results!"
      ]
    },
    {
      "cell_type": "code",
      "source": [
        "max_features = 50000\n",
        "maxlen = 500 \n",
        "batch_size = 16\n",
        "embedding_dims = 20 \n",
        "filters = 12 \n",
        "kernel_size = 3 \n",
        "hidden_dims = 8 \n",
        "epochs = 1000 \n",
        "\n",
        "sequence_length = 100\n",
        "alphabet_length = 26\n",
        "valid_split = 0.2\n",
        "test_split = 0.2\n",
        "\n",
        "tolstoy_key = 0\n",
        "austen_key = 1"
      ],
      "metadata": {
        "id": "AzdO-QWxTEmO"
      },
      "execution_count": 108,
      "outputs": []
    },
    {
      "cell_type": "code",
      "source": [
        "def extract_sequences(char_array, author_key):\n",
        "  sequence_array = list()\n",
        "  start_indx = 0\n",
        "  end_indx = sequence_length - 1\n",
        "  while end_indx < len(char_array):\n",
        "    sequence = np.array(char_array[start_indx:end_indx + 1])\n",
        "    sequence_array.append(sequence)\n",
        "    start_indx += 1\n",
        "    end_indx += 1\n",
        "  return np.array(sequence_array)"
      ],
      "metadata": {
        "id": "Yy5M5GOljLtu"
      },
      "execution_count": 110,
      "outputs": []
    },
    {
      "cell_type": "code",
      "source": [
        "def encode_char_data(char_array):\n",
        "  #integer encoding\n",
        "  alphabet = \"abcdefghijklmnopqrstuv\"\n",
        "  int_array = np.zeros(len(char_array))\n",
        "  for i in range(len(char_array)):\n",
        "    int_array[i] = alphabet.find(char_array[i])\n",
        "  encoded_array = to_categorical(int_array, alphabet_length)\n",
        "  return encoded_array"
      ],
      "metadata": {
        "id": "vhryLXgEX8lN"
      },
      "execution_count": 111,
      "outputs": []
    },
    {
      "cell_type": "code",
      "source": [
        "ak_encoded = encode_char_data(ak)\n",
        "pp_encoded = encode_char_data(pp)\n",
        "print(ak_encoded.shape)\n",
        "print(pp_encoded.shape)"
      ],
      "metadata": {
        "colab": {
          "base_uri": "https://localhost:8080/"
        },
        "id": "c8NNlzkfULeW",
        "outputId": "111fd39b-2dea-410c-a6cb-eaac3dad40fa"
      },
      "execution_count": 112,
      "outputs": [
        {
          "output_type": "stream",
          "name": "stdout",
          "text": [
            "(1524960, 26)\n",
            "(537384, 26)\n"
          ]
        }
      ]
    },
    {
      "cell_type": "code",
      "source": [
        "#shorten both datasets\n",
        "\n",
        "ak_encoded = ak_encoded[:max_features]\n",
        "pp_encoded = pp_encoded[:max_features]"
      ],
      "metadata": {
        "id": "UFBxHMUkmIZ7"
      },
      "execution_count": 113,
      "outputs": []
    },
    {
      "cell_type": "code",
      "source": [
        "ak_sequences = extract_sequences(ak_encoded, tolstoy_key)\n",
        "pp_sequences = extract_sequences(pp_encoded, austen_key)\n",
        "print(ak_sequences.shape)\n",
        "print(pp_sequences.shape)"
      ],
      "metadata": {
        "colab": {
          "base_uri": "https://localhost:8080/"
        },
        "id": "Dxkr1DuwkcXc",
        "outputId": "4761ce27-21f5-465e-e883-c67dbda7f1d9"
      },
      "execution_count": 114,
      "outputs": [
        {
          "output_type": "stream",
          "name": "stdout",
          "text": [
            "(49901, 100, 26)\n",
            "(49901, 100, 26)\n"
          ]
        }
      ]
    },
    {
      "cell_type": "code",
      "source": [
        "# create y_labels\n",
        "y = np.zeros(ak_sequences.shape[0] + pp_sequences.shape[0], dtype=np.uint8)\n",
        "for i in range(int(y.shape[0]/2)):\n",
        "  y[i] = 1"
      ],
      "metadata": {
        "id": "ODJCgWJ8mifH"
      },
      "execution_count": 115,
      "outputs": []
    },
    {
      "cell_type": "code",
      "source": [
        "#combine datasets\n",
        "#labels 0 - leo tolstoy, 1 - jane austen\n",
        "X = np.concatenate((ak_sequences, pp_sequences))\n",
        "print(X.shape)\n",
        "print(y.shape)"
      ],
      "metadata": {
        "colab": {
          "base_uri": "https://localhost:8080/"
        },
        "id": "06W6CMU4ofDG",
        "outputId": "72150711-4462-4be4-e0fb-49adda18d7dc"
      },
      "execution_count": 116,
      "outputs": [
        {
          "output_type": "stream",
          "name": "stdout",
          "text": [
            "(99802, 100, 26)\n",
            "(99802,)\n"
          ]
        }
      ]
    },
    {
      "cell_type": "markdown",
      "metadata": {
        "id": "lL1Mc8ibHnep"
      },
      "source": [
        "## Data splitting\n",
        "Split the data into train, validate and test sets."
      ]
    },
    {
      "cell_type": "code",
      "metadata": {
        "id": "ELyG9XFUHrkB"
      },
      "source": [
        "def split_data(X,y,valid_split,test_split):\n",
        "  #shuffle data\n",
        "  p = np.random.permutation(len(y))\n",
        "  X_shuffled=X[p]\n",
        "  y_shuffled=y[p]\n",
        "  valid_size = int(X.shape[0]*(1-test_split-valid_split))\n",
        "  test_size = int(X.shape[0]*(1-test_split))\n",
        "\n",
        "  X_train, Y_train = X_shuffled[:valid_size], y_shuffled[:valid_size]\n",
        "  X_valid, Y_valid = X_shuffled[valid_size:test_size], y_shuffled[valid_size:test_size]\n",
        "  X_test, Y_test   = X_shuffled[test_size:], y_shuffled[test_size:]\n",
        "\n",
        "  return X_train, Y_train, X_valid, Y_valid, X_test, Y_test"
      ],
      "execution_count": 117,
      "outputs": []
    },
    {
      "cell_type": "code",
      "source": [
        "X_train, Y_train, X_valid, Y_valid, X_test, Y_test = split_data(X, y, valid_split, test_split)\n",
        "print(X_train.shape)\n",
        "print(Y_train.shape)\n",
        "\n",
        "print(X_valid.shape)\n",
        "print(Y_valid.shape)\n",
        "\n",
        "print(X_test.shape)\n",
        "print(Y_test.shape)"
      ],
      "metadata": {
        "colab": {
          "base_uri": "https://localhost:8080/"
        },
        "id": "4XozZy0GpvOt",
        "outputId": "b230cad4-e74a-442b-90d7-e454f79a24cb"
      },
      "execution_count": 118,
      "outputs": [
        {
          "output_type": "stream",
          "name": "stdout",
          "text": [
            "(59881, 100, 26)\n",
            "(59881,)\n",
            "(19960, 100, 26)\n",
            "(19960,)\n",
            "(19961, 100, 26)\n",
            "(19961,)\n"
          ]
        }
      ]
    },
    {
      "cell_type": "markdown",
      "metadata": {
        "id": "hA8U9tr7HrNQ"
      },
      "source": [
        "## Model definition\n",
        "Define a 1D CNN or an LSTM for the task. Compile the model with the correct loss function."
      ]
    },
    {
      "cell_type": "code",
      "metadata": {
        "id": "BT1V1s4kHuUe"
      },
      "source": [
        "\n",
        "model = Sequential()\n",
        "\n",
        "\n",
        "model.add(Conv1D(filters,\n",
        "                 kernel_size,\n",
        "                 padding='valid',\n",
        "                 activation='relu',\n",
        "                 kernel_initializer=HeNormal(),\n",
        "                 strides=1,\n",
        "                 input_shape=(sequence_length, alphabet_length,)))\n",
        " \n",
        "model.add(GlobalMaxPooling1D())\n",
        "\n",
        "model.add(Dense(hidden_dims, kernel_initializer=HeNormal()))\n",
        "model.add(Dropout(0.5))\n",
        "model.add(Activation('relu'))\n",
        "\n",
        "model.add(Dense(1)) \n",
        "model.add(Activation('sigmoid')) \n",
        "\n",
        "model.compile(loss='binary_crossentropy', \n",
        "              optimizer='adam',\n",
        "              metrics=['accuracy'])"
      ],
      "execution_count": 119,
      "outputs": []
    },
    {
      "cell_type": "code",
      "source": [
        "model.summary()"
      ],
      "metadata": {
        "colab": {
          "base_uri": "https://localhost:8080/"
        },
        "id": "qQqCFizsqo0S",
        "outputId": "241a333d-8fe0-4b05-963a-8ca4ce85c5d9"
      },
      "execution_count": 120,
      "outputs": [
        {
          "output_type": "stream",
          "name": "stdout",
          "text": [
            "Model: \"sequential_8\"\n",
            "_________________________________________________________________\n",
            " Layer (type)                Output Shape              Param #   \n",
            "=================================================================\n",
            " conv1d_8 (Conv1D)           (None, 98, 12)            948       \n",
            "                                                                 \n",
            " global_max_pooling1d_5 (Glo  (None, 12)               0         \n",
            " balMaxPooling1D)                                                \n",
            "                                                                 \n",
            " dense_11 (Dense)            (None, 8)                 104       \n",
            "                                                                 \n",
            " dropout_5 (Dropout)         (None, 8)                 0         \n",
            "                                                                 \n",
            " activation_10 (Activation)  (None, 8)                 0         \n",
            "                                                                 \n",
            " dense_12 (Dense)            (None, 1)                 9         \n",
            "                                                                 \n",
            " activation_11 (Activation)  (None, 1)                 0         \n",
            "                                                                 \n",
            "=================================================================\n",
            "Total params: 1,061\n",
            "Trainable params: 1,061\n",
            "Non-trainable params: 0\n",
            "_________________________________________________________________\n"
          ]
        }
      ]
    },
    {
      "cell_type": "markdown",
      "metadata": {
        "id": "hWFb-nAMHuAI"
      },
      "source": [
        "## Model training\n",
        "Train the model and apply early stopping."
      ]
    },
    {
      "cell_type": "code",
      "metadata": {
        "id": "dvgKjqp3Hwkp",
        "colab": {
          "base_uri": "https://localhost:8080/"
        },
        "outputId": "d38a5f15-873a-4956-abdb-5d92a845c3c5"
      },
      "source": [
        "es = EarlyStopping(patience=5)\n",
        "model.fit(X_train, Y_train, epochs=500, batch_size=batch_size, \n",
        "              validation_data=(X_valid, Y_valid), verbose=2, \n",
        "              callbacks=[es])"
      ],
      "execution_count": 121,
      "outputs": [
        {
          "output_type": "stream",
          "name": "stdout",
          "text": [
            "Epoch 1/500\n",
            "3743/3743 - 12s - loss: 0.5740 - accuracy: 0.6978 - val_loss: 0.3945 - val_accuracy: 0.8607 - 12s/epoch - 3ms/step\n",
            "Epoch 2/500\n",
            "3743/3743 - 12s - loss: 0.4100 - accuracy: 0.8208 - val_loss: 0.2793 - val_accuracy: 0.8989 - 12s/epoch - 3ms/step\n",
            "Epoch 3/500\n",
            "3743/3743 - 11s - loss: 0.3495 - accuracy: 0.8522 - val_loss: 0.2234 - val_accuracy: 0.9189 - 11s/epoch - 3ms/step\n",
            "Epoch 4/500\n",
            "3743/3743 - 11s - loss: 0.3246 - accuracy: 0.8629 - val_loss: 0.1961 - val_accuracy: 0.9265 - 11s/epoch - 3ms/step\n",
            "Epoch 5/500\n",
            "3743/3743 - 11s - loss: 0.3088 - accuracy: 0.8703 - val_loss: 0.2089 - val_accuracy: 0.9149 - 11s/epoch - 3ms/step\n",
            "Epoch 6/500\n",
            "3743/3743 - 11s - loss: 0.2930 - accuracy: 0.8788 - val_loss: 0.1700 - val_accuracy: 0.9371 - 11s/epoch - 3ms/step\n",
            "Epoch 7/500\n",
            "3743/3743 - 11s - loss: 0.2845 - accuracy: 0.8825 - val_loss: 0.1541 - val_accuracy: 0.9439 - 11s/epoch - 3ms/step\n",
            "Epoch 8/500\n",
            "3743/3743 - 12s - loss: 0.2794 - accuracy: 0.8844 - val_loss: 0.1549 - val_accuracy: 0.9432 - 12s/epoch - 3ms/step\n",
            "Epoch 9/500\n",
            "3743/3743 - 12s - loss: 0.2737 - accuracy: 0.8864 - val_loss: 0.1559 - val_accuracy: 0.9470 - 12s/epoch - 3ms/step\n",
            "Epoch 10/500\n",
            "3743/3743 - 12s - loss: 0.2729 - accuracy: 0.8869 - val_loss: 0.1461 - val_accuracy: 0.9472 - 12s/epoch - 3ms/step\n",
            "Epoch 11/500\n",
            "3743/3743 - 12s - loss: 0.2643 - accuracy: 0.8921 - val_loss: 0.1419 - val_accuracy: 0.9496 - 12s/epoch - 3ms/step\n",
            "Epoch 12/500\n",
            "3743/3743 - 11s - loss: 0.2628 - accuracy: 0.8919 - val_loss: 0.1409 - val_accuracy: 0.9448 - 11s/epoch - 3ms/step\n",
            "Epoch 13/500\n",
            "3743/3743 - 10s - loss: 0.2599 - accuracy: 0.8935 - val_loss: 0.1342 - val_accuracy: 0.9522 - 10s/epoch - 3ms/step\n",
            "Epoch 14/500\n",
            "3743/3743 - 12s - loss: 0.2575 - accuracy: 0.8954 - val_loss: 0.1338 - val_accuracy: 0.9504 - 12s/epoch - 3ms/step\n",
            "Epoch 15/500\n",
            "3743/3743 - 11s - loss: 0.2571 - accuracy: 0.8946 - val_loss: 0.1378 - val_accuracy: 0.9511 - 11s/epoch - 3ms/step\n",
            "Epoch 16/500\n",
            "3743/3743 - 11s - loss: 0.2543 - accuracy: 0.8956 - val_loss: 0.1293 - val_accuracy: 0.9541 - 11s/epoch - 3ms/step\n",
            "Epoch 17/500\n",
            "3743/3743 - 10s - loss: 0.2495 - accuracy: 0.8980 - val_loss: 0.1189 - val_accuracy: 0.9565 - 10s/epoch - 3ms/step\n",
            "Epoch 18/500\n",
            "3743/3743 - 10s - loss: 0.2478 - accuracy: 0.8993 - val_loss: 0.1262 - val_accuracy: 0.9519 - 10s/epoch - 3ms/step\n",
            "Epoch 19/500\n",
            "3743/3743 - 11s - loss: 0.2490 - accuracy: 0.8991 - val_loss: 0.1215 - val_accuracy: 0.9564 - 11s/epoch - 3ms/step\n",
            "Epoch 20/500\n",
            "3743/3743 - 12s - loss: 0.2458 - accuracy: 0.9002 - val_loss: 0.1309 - val_accuracy: 0.9495 - 12s/epoch - 3ms/step\n",
            "Epoch 21/500\n",
            "3743/3743 - 12s - loss: 0.2440 - accuracy: 0.9012 - val_loss: 0.1179 - val_accuracy: 0.9604 - 12s/epoch - 3ms/step\n",
            "Epoch 22/500\n",
            "3743/3743 - 11s - loss: 0.2425 - accuracy: 0.9024 - val_loss: 0.1175 - val_accuracy: 0.9599 - 11s/epoch - 3ms/step\n",
            "Epoch 23/500\n",
            "3743/3743 - 12s - loss: 0.2437 - accuracy: 0.9009 - val_loss: 0.1166 - val_accuracy: 0.9613 - 12s/epoch - 3ms/step\n",
            "Epoch 24/500\n",
            "3743/3743 - 11s - loss: 0.2460 - accuracy: 0.8996 - val_loss: 0.1133 - val_accuracy: 0.9602 - 11s/epoch - 3ms/step\n",
            "Epoch 25/500\n",
            "3743/3743 - 11s - loss: 0.2404 - accuracy: 0.9035 - val_loss: 0.1172 - val_accuracy: 0.9580 - 11s/epoch - 3ms/step\n",
            "Epoch 26/500\n",
            "3743/3743 - 11s - loss: 0.2408 - accuracy: 0.9018 - val_loss: 0.1065 - val_accuracy: 0.9600 - 11s/epoch - 3ms/step\n",
            "Epoch 27/500\n",
            "3743/3743 - 11s - loss: 0.2418 - accuracy: 0.9013 - val_loss: 0.1067 - val_accuracy: 0.9627 - 11s/epoch - 3ms/step\n",
            "Epoch 28/500\n",
            "3743/3743 - 11s - loss: 0.2363 - accuracy: 0.9054 - val_loss: 0.1056 - val_accuracy: 0.9639 - 11s/epoch - 3ms/step\n",
            "Epoch 29/500\n",
            "3743/3743 - 11s - loss: 0.2390 - accuracy: 0.9037 - val_loss: 0.1065 - val_accuracy: 0.9631 - 11s/epoch - 3ms/step\n",
            "Epoch 30/500\n",
            "3743/3743 - 10s - loss: 0.2396 - accuracy: 0.9031 - val_loss: 0.1109 - val_accuracy: 0.9630 - 10s/epoch - 3ms/step\n",
            "Epoch 31/500\n",
            "3743/3743 - 11s - loss: 0.2382 - accuracy: 0.9040 - val_loss: 0.1108 - val_accuracy: 0.9644 - 11s/epoch - 3ms/step\n",
            "Epoch 32/500\n",
            "3743/3743 - 11s - loss: 0.2357 - accuracy: 0.9048 - val_loss: 0.1147 - val_accuracy: 0.9561 - 11s/epoch - 3ms/step\n",
            "Epoch 33/500\n",
            "3743/3743 - 11s - loss: 0.2343 - accuracy: 0.9051 - val_loss: 0.1078 - val_accuracy: 0.9630 - 11s/epoch - 3ms/step\n"
          ]
        },
        {
          "output_type": "execute_result",
          "data": {
            "text/plain": [
              "<keras.callbacks.History at 0x7fdadccf8310>"
            ]
          },
          "metadata": {},
          "execution_count": 121
        }
      ]
    },
    {
      "cell_type": "markdown",
      "metadata": {
        "id": "0omw2XzSHwOo"
      },
      "source": [
        "## Evaluation on test data\n",
        "Evaluate the model on the test data in terms of loss and accuracy."
      ]
    },
    {
      "cell_type": "code",
      "metadata": {
        "id": "4bF3dQA1Hv_R",
        "colab": {
          "base_uri": "https://localhost:8080/"
        },
        "outputId": "d7fe703b-7037-4ab9-d10e-9944954def2e"
      },
      "source": [
        "print(model.evaluate(X_test, Y_test))"
      ],
      "execution_count": 122,
      "outputs": [
        {
          "output_type": "stream",
          "name": "stdout",
          "text": [
            "624/624 [==============================] - 1s 2ms/step - loss: 0.1048 - accuracy: 0.9642\n",
            "[0.1048157811164856, 0.9642302393913269]\n"
          ]
        }
      ]
    },
    {
      "cell_type": "markdown",
      "metadata": {
        "id": "4Y73Q-h5Hz1r"
      },
      "source": [
        "## Confusion matrix\n",
        "Calculate and display the confusion matrix."
      ]
    },
    {
      "cell_type": "code",
      "metadata": {
        "id": "cW8zZi1uJm2B",
        "colab": {
          "base_uri": "https://localhost:8080/"
        },
        "outputId": "a9fc29cd-aef3-4733-9280-e6ddaea41910"
      },
      "source": [
        "import numpy as np\n",
        "from sklearn.metrics import confusion_matrix\n",
        "\n",
        "preds = model.predict(X_test)\n",
        "y_pred = np.round(preds) \n",
        "\n",
        "conf=confusion_matrix(Y_test, y_pred)\n",
        "print(conf)"
      ],
      "execution_count": 123,
      "outputs": [
        {
          "output_type": "stream",
          "name": "stdout",
          "text": [
            "[[9711  132]\n",
            " [ 582 9536]]\n"
          ]
        }
      ]
    },
    {
      "cell_type": "code",
      "source": [
        "import seaborn as sns\n",
        "ax = sns.heatmap(conf, annot=True, fmt='d', cmap='Blues') \n",
        "ax.set(xlabel='Predicted Label',\n",
        "       ylabel='True label');"
      ],
      "metadata": {
        "colab": {
          "base_uri": "https://localhost:8080/",
          "height": 279
        },
        "id": "EQ7LpQNP5CaP",
        "outputId": "7467d1f8-d724-4df6-e2ad-443c48f78fdc"
      },
      "execution_count": 124,
      "outputs": [
        {
          "output_type": "display_data",
          "data": {
            "text/plain": [
              "<Figure size 432x288 with 2 Axes>"
            ],
            "image/png": "[encoded data removed]"
          },
          "metadata": {
            "needs_background": "light"
          }
        }
      ]
    },
    {
      "cell_type": "code",
      "source": [
        ""
      ],
      "metadata": {
        "id": "N6fxKYEF73gM"
      },
      "execution_count": 124,
      "outputs": []
    }
  ]
}